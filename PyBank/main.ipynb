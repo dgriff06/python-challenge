{
 "cells": [
  {
   "cell_type": "code",
   "execution_count": null,
   "id": "16b64bc8",
   "metadata": {},
   "outputs": [],
   "source": [
    "# In this assignment, you will create a Python script that analyzes the financial records of your company.  \n",
    "# Inside your starter code, you will find a financial dataset in the budget_data.csv file. \n",
    "# This dataset is composed of two columns, Date and Profit/Losses. \n",
    "#(Thankfully, your company has rather lax standards for accounting, so the records are simple.)\n",
    "\n",
    "# Your task is to create a Python script that analyzes the records to calculate each of the following:\n",
    "\n",
    "# The total number of months included in the dataset\n",
    "\n",
    "# The net total amount of Profit/Losses over the entire period\n",
    "\n",
    "# The average of the changes in Profit/Losses over the entire period\n",
    "\n",
    "# The greatest increase in profits (date and amount) over the entire period\n",
    "\n",
    "# The greatest decrease in losses (date and amount) over the entire period"
   ]
  },
  {
   "cell_type": "code",
   "execution_count": 696,
   "id": "cea32ec0",
   "metadata": {},
   "outputs": [],
   "source": [
    "# import pandas library\n",
    "\n",
    "import pandas as pd"
   ]
  },
  {
   "cell_type": "code",
   "execution_count": 697,
   "id": "c89e6f18",
   "metadata": {},
   "outputs": [],
   "source": [
    "# create data frame to read the csv\n",
    "\n",
    "budget_df = pd.read_csv(\"budget_data.csv\", parse_dates=True, infer_datetime_format=True, index_col= \"Date\")"
   ]
  },
  {
   "cell_type": "code",
   "execution_count": 698,
   "id": "50926869",
   "metadata": {},
   "outputs": [],
   "source": [
    "# create a function that calculates the total months in the data frame\n",
    "\n",
    "def totalMonths():\n",
    "    \n",
    "    # call on .count to calculate the months\n",
    "    # assign value to variable called 'months'\n",
    "    \n",
    "    months = pd.Series(budget_df.index.month).count()\n",
    "    \n",
    "    return (f\"Total Months: \" + str(months) + \" \")\n"
   ]
  },
  {
   "cell_type": "code",
   "execution_count": 699,
   "id": "6d1b8597",
   "metadata": {},
   "outputs": [
    {
     "data": {
      "text/plain": [
       "'Total Months: 86 '"
      ]
     },
     "execution_count": 699,
     "metadata": {},
     "output_type": "execute_result"
    }
   ],
   "source": [
    "totalMonths()"
   ]
  },
  {
   "cell_type": "code",
   "execution_count": 700,
   "id": "ae869728",
   "metadata": {},
   "outputs": [],
   "source": [
    "# create a list of values in the 'Profit/Losses' column.\n",
    "\n",
    "pl_list = []\n",
    "\n",
    "for x in budget_df.groupby(\"Profit/Losses\"):\n",
    "    pl_list.append(x[0])"
   ]
  },
  {
   "cell_type": "code",
   "execution_count": 701,
   "id": "cdc55dc2",
   "metadata": {},
   "outputs": [],
   "source": [
    "# create a function that calculates the total 'P/L' of the data.\n",
    "# use the sum function to calculate the values\n",
    "\n",
    "def profitLossTotal():\n",
    "    \n",
    "    total = sum(pl_list)\n",
    "    \n",
    "    return (f\"Total Profit/Losses: \" + str(total) + \" \")"
   ]
  },
  {
   "cell_type": "code",
   "execution_count": 702,
   "id": "1b68ae95",
   "metadata": {},
   "outputs": [
    {
     "data": {
      "text/plain": [
       "'Total Profit/Losses: 38382578 '"
      ]
     },
     "execution_count": 702,
     "metadata": {},
     "output_type": "execute_result"
    }
   ],
   "source": [
    "profitLossTotal()"
   ]
  },
  {
   "cell_type": "code",
   "execution_count": 703,
   "id": "036d99f8",
   "metadata": {},
   "outputs": [],
   "source": [
    "# create a function that finds the average change of the values in 'P/L'\n",
    "# use .diff for the calculations\n",
    "# use .values to return a float and not the index of dtype\n",
    "# use .round to round up to two places behind the decimal\n",
    "\n",
    "def avgChange():\n",
    "    \n",
    "    change = budget_df.diff(1, axis = 0).mean().values[0].round(2)\n",
    "    \n",
    "    return (f\"Average Change: $\"+str(change) + \" \")\n",
    "    "
   ]
  },
  {
   "cell_type": "code",
   "execution_count": 704,
   "id": "8fec48c9",
   "metadata": {},
   "outputs": [
    {
     "data": {
      "text/plain": [
       "'Average Change: $-2315.12 '"
      ]
     },
     "execution_count": 704,
     "metadata": {},
     "output_type": "execute_result"
    }
   ],
   "source": [
    "avgChange()"
   ]
  },
  {
   "cell_type": "code",
   "execution_count": 709,
   "id": "ed8e4055",
   "metadata": {},
   "outputs": [],
   "source": [
    "# create a function that calculates the max increase in profits\n",
    "\n",
    "\n",
    "def maxIncrease():\n",
    "    \n",
    "    # use .diff to find the change between the values in the 'P/L' column\n",
    "    # assign value to variable 'diff'\n",
    "    \n",
    "    diff = budget_df.diff()\n",
    "    \n",
    "    # use .max to find the largest value of diff\n",
    "    # assign value to max_\n",
    "    \n",
    "    max_ = int(budget_df[\"Profit/Losses\"].diff().max())\n",
    "    \n",
    "    # use boolean indexing to find the month that the increase took place\n",
    "    # assign value to variable 'increase'\n",
    "    # the value in \"increase\" is a timestamp, returned the first 10 elements (the date) to the variable 'increase_month'\n",
    "    \n",
    "    increase = diff[(diff == max_)[\"Profit/Losses\"]]\n",
    "    increase_month = str(increase.index.to_list()[0])[0:10]\n",
    "    \n",
    "    return (f\"Greatest Increase in Profits: \" + increase_month + \"  $\" + str(max_) + \" \")"
   ]
  },
  {
   "cell_type": "code",
   "execution_count": 710,
   "id": "1cfaf77f",
   "metadata": {},
   "outputs": [
    {
     "data": {
      "text/plain": [
       "'Greatest Increase in Profits: 2012-02-01  $1926159 '"
      ]
     },
     "execution_count": 710,
     "metadata": {},
     "output_type": "execute_result"
    }
   ],
   "source": [
    "maxIncrease()"
   ]
  },
  {
   "cell_type": "code",
   "execution_count": 711,
   "id": "4cb5145e",
   "metadata": {},
   "outputs": [],
   "source": [
    "# create a function that calculates the max decrease in losses\n",
    "\n",
    "def maxDecrease():\n",
    "    \n",
    "    # use .diff to find the change between the values in the 'P/L' column\n",
    "    # assign value to variable 'diff2'\n",
    "    \n",
    "    diff2 = budget_df.diff()\n",
    "    \n",
    "    # use .max to find the largest value of diff2\n",
    "    # assign value to min_\n",
    "    \n",
    "    min_ = int(budget_df[\"Profit/Losses\"].diff().min())\n",
    "    \n",
    "    # use boolean indexing to find the month that the decrease took place\n",
    "    # assign value to variable 'increase'\n",
    "    # the value in \"decrease\" is a timestamp, returned the first 10 elements (the date) to the variable 'decrease_month'\n",
    "    \n",
    "    decrease = diff2[(diff2 == min_)[\"Profit/Losses\"]]\n",
    "    decrease_month = str(decrease.index.to_list()[0])[0:10]\n",
    "    \n",
    "    return (f\"Greatest Decrease in Losses:  \" + decrease_month + \"  $\" + str(min_) + \" \")"
   ]
  },
  {
   "cell_type": "code",
   "execution_count": 712,
   "id": "4cd1ae37",
   "metadata": {},
   "outputs": [
    {
     "data": {
      "text/plain": [
       "'Greatest Decrease in Losses:  2013-09-01  $-2196167 '"
      ]
     },
     "execution_count": 712,
     "metadata": {},
     "output_type": "execute_result"
    }
   ],
   "source": [
    "maxDecrease()"
   ]
  },
  {
   "cell_type": "code",
   "execution_count": 713,
   "id": "8aa0f5fd",
   "metadata": {},
   "outputs": [],
   "source": [
    "# create a function that prints the returns of each funtion to the terminal\n",
    "\n",
    "def financialAnalysis():\n",
    "    print(f\"Financial Analysis\")\n",
    "    print(f\"------------------------------\")\n",
    "    \n",
    "    print(totalMonths())\n",
    "    print(profitLossTotal())\n",
    "    print(avgChange())\n",
    "    print(maxIncrease())\n",
    "    print(maxDecrease())\n",
    "    \n",
    "    # return a str that can print to a .txt file \n",
    "    return str(totalMonths() + profitLossTotal() + avgChange() + maxIncrease() + maxDecrease())\n",
    "    \n",
    "    "
   ]
  },
  {
   "cell_type": "code",
   "execution_count": 714,
   "id": "a03c973f",
   "metadata": {
    "scrolled": true
   },
   "outputs": [
    {
     "name": "stdout",
     "output_type": "stream",
     "text": [
      "Financial Analysis\n",
      "------------------------------\n",
      "Total Months: 86 \n",
      "Total Profit/Losses: 38382578 \n",
      "Average Change: $-2315.12 \n",
      "Greatest Increase in Profits: 2012-02-01  $1926159 \n",
      "Greatest Decrease in Losses:  2013-09-01  $-2196167 \n"
     ]
    },
    {
     "data": {
      "text/plain": [
       "'Total Months: 86 Total Profit/Losses: 38382578 Average Change: $-2315.12 Greatest Increase in Profits: 2012-02-01  $1926159 Greatest Decrease in Losses:  2013-09-01  $-2196167 '"
      ]
     },
     "execution_count": 714,
     "metadata": {},
     "output_type": "execute_result"
    }
   ],
   "source": [
    "financialAnalysis()"
   ]
  },
  {
   "cell_type": "code",
   "execution_count": 715,
   "id": "10fa8568",
   "metadata": {},
   "outputs": [
    {
     "name": "stdout",
     "output_type": "stream",
     "text": [
      "Financial Analysis\n",
      "------------------------------\n",
      "Total Months: 86 \n",
      "Total Profit/Losses: 38382578 \n",
      "Average Change: $-2315.12 \n",
      "Greatest Increase in Profits: 2012-02-01  $1926159 \n",
      "Greatest Decrease in Losses:  2013-09-01  $-2196167 \n"
     ]
    }
   ],
   "source": [
    "# return the results of the financial anaylis to a .txt file\n",
    "\n",
    "# open a .txt file as writeable\n",
    "with open(\"financialAnalysis.txt\", \"w\") as file:\n",
    "    \n",
    "    # use .write to print the code in the file\n",
    "    # use .close to close the file\n",
    "    \n",
    "    file.write(f\"{financialAnalysis()}\")\n",
    "    file.close()"
   ]
  },
  {
   "cell_type": "code",
   "execution_count": null,
   "id": "876686e0",
   "metadata": {},
   "outputs": [],
   "source": []
  }
 ],
 "metadata": {
  "kernelspec": {
   "display_name": "Python 3 (ipykernel)",
   "language": "python",
   "name": "python3"
  },
  "language_info": {
   "codemirror_mode": {
    "name": "ipython",
    "version": 3
   },
   "file_extension": ".py",
   "mimetype": "text/x-python",
   "name": "python",
   "nbconvert_exporter": "python",
   "pygments_lexer": "ipython3",
   "version": "3.9.12"
  }
 },
 "nbformat": 4,
 "nbformat_minor": 5
}
