{
 "cells": [
  {
   "cell_type": "code",
   "execution_count": null,
   "id": "16b64bc8",
   "metadata": {},
   "outputs": [],
   "source": [
    "# In this assignment, you will create a Python script that analyzes the financial records of your company.  \n",
    "# Inside your starter code, you will find a financial dataset in the budget_data.csv file. \n",
    "# This dataset is composed of two columns, Date and Profit/Losses. \n",
    "#(Thankfully, your company has rather lax standards for accounting, so the records are simple.)\n",
    "\n",
    "# Your task is to create a Python script that analyzes the records to calculate each of the following:\n",
    "\n",
    "# The total number of months included in the dataset\n",
    "\n",
    "# The net total amount of Profit/Losses over the entire period\n",
    "\n",
    "# The average of the changes in Profit/Losses over the entire period\n",
    "\n",
    "# The greatest increase in profits (date and amount) over the entire period\n",
    "\n",
    "# The greatest decrease in losses (date and amount) over the entire period"
   ]
  },
  {
   "cell_type": "code",
   "execution_count": 1,
   "id": "cea32ec0",
   "metadata": {},
   "outputs": [],
   "source": [
    "import pandas as pd"
   ]
  },
  {
   "cell_type": "code",
   "execution_count": 681,
   "id": "584bb71f",
   "metadata": {},
   "outputs": [],
   "source": [
    "budget_df = pd.read_csv(\"budget_data.csv\", parse_dates=True, infer_datetime_format=True, index_col= \"Date\")"
   ]
  },
  {
   "cell_type": "code",
   "execution_count": 682,
   "id": "247a8405",
   "metadata": {},
   "outputs": [],
   "source": [
    "def totalMonths():\n",
    "    months = pd.Series(budget_df.index.month).count()\n",
    "    \n",
    "    return (f\"Total Months: \" + str(months) + \" \")\n"
   ]
  },
  {
   "cell_type": "code",
   "execution_count": 683,
   "id": "3a1a85c0",
   "metadata": {},
   "outputs": [
    {
     "data": {
      "text/plain": [
       "'Total Months: 86 '"
      ]
     },
     "execution_count": 683,
     "metadata": {},
     "output_type": "execute_result"
    }
   ],
   "source": [
    "totalMonths()"
   ]
  },
  {
   "cell_type": "code",
   "execution_count": 684,
   "id": "9eb24e76",
   "metadata": {},
   "outputs": [],
   "source": [
    "pl_list = []\n",
    "\n",
    "for x in budget_df.groupby(\"Profit/Losses\"):\n",
    "    pl_list.append(x[0])"
   ]
  },
  {
   "cell_type": "code",
   "execution_count": 685,
   "id": "3b5f9b14",
   "metadata": {},
   "outputs": [],
   "source": [
    "def profitLossTotal():\n",
    "    \n",
    "    total = sum(pl_list)\n",
    "    \n",
    "    return (f\"Total Profit/Losses: \" + str(total) + \" \")"
   ]
  },
  {
   "cell_type": "code",
   "execution_count": 686,
   "id": "f1f93db8",
   "metadata": {},
   "outputs": [
    {
     "data": {
      "text/plain": [
       "'Total Profit/Losses: 38382578 '"
      ]
     },
     "execution_count": 686,
     "metadata": {},
     "output_type": "execute_result"
    }
   ],
   "source": [
    "profitLossTotal()"
   ]
  },
  {
   "cell_type": "code",
   "execution_count": 687,
   "id": "3f8318e7",
   "metadata": {},
   "outputs": [],
   "source": [
    "def avgChange():\n",
    "    \n",
    "    change = budget_df.diff(1, axis = 0).mean().values[0].round(2)\n",
    "    \n",
    "    return (f\"Average Change: $\"+str(change) + \" \")\n",
    "    "
   ]
  },
  {
   "cell_type": "code",
   "execution_count": 688,
   "id": "6157ca2d",
   "metadata": {},
   "outputs": [
    {
     "data": {
      "text/plain": [
       "'Average Change: $-2315.12 '"
      ]
     },
     "execution_count": 688,
     "metadata": {},
     "output_type": "execute_result"
    }
   ],
   "source": [
    "avgChange()"
   ]
  },
  {
   "cell_type": "code",
   "execution_count": 689,
   "id": "24cb91ee",
   "metadata": {},
   "outputs": [],
   "source": [
    "def maxIncrease():\n",
    "    \n",
    "    diff = budget_df.diff()\n",
    "    max_ = int(budget_df[\"Profit/Losses\"].diff().max())\n",
    "    \n",
    "    increase = diff[(diff == max_)[\"Profit/Losses\"]]\n",
    "    increase_month = str(increase.index.to_list()[0])[0:10]\n",
    "    \n",
    "    return (f\"Greatest Increase in Profits: \" + increase_month + \"  $\" + str(max_) + \" \")"
   ]
  },
  {
   "cell_type": "code",
   "execution_count": 690,
   "id": "a0a803d0",
   "metadata": {},
   "outputs": [
    {
     "data": {
      "text/plain": [
       "'Greatest Increase in Profits: 2012-02-01  $1926159 '"
      ]
     },
     "execution_count": 690,
     "metadata": {},
     "output_type": "execute_result"
    }
   ],
   "source": [
    "maxIncrease()"
   ]
  },
  {
   "cell_type": "code",
   "execution_count": 691,
   "id": "8f7e6eaf",
   "metadata": {},
   "outputs": [],
   "source": [
    "def maxDecrease():\n",
    "    \n",
    "    diff = budget_df.diff()\n",
    "    min_ = int(budget_df[\"Profit/Losses\"].diff().min())\n",
    "    \n",
    "    decrease = diff[(diff == min_)[\"Profit/Losses\"]]\n",
    "    decrease_month = str(decrease.index.to_list()[0])[0:10]\n",
    "    \n",
    "    return (f\"Greatest Decrease in Losses:  \" + decrease_month + \"  $\" + str(min_) + \" \")"
   ]
  },
  {
   "cell_type": "code",
   "execution_count": 692,
   "id": "b5e5cb9d",
   "metadata": {},
   "outputs": [
    {
     "data": {
      "text/plain": [
       "'Greatest Decrease in Losses:  2013-09-01  $-2196167 '"
      ]
     },
     "execution_count": 692,
     "metadata": {},
     "output_type": "execute_result"
    }
   ],
   "source": [
    "maxDecrease()"
   ]
  },
  {
   "cell_type": "code",
   "execution_count": 693,
   "id": "9a6d4983",
   "metadata": {},
   "outputs": [],
   "source": [
    "def financialAnalysis():\n",
    "    print(f\"Financial Analysis\")\n",
    "    print(f\"------------------------------\")\n",
    "    \n",
    "    print(totalMonths())\n",
    "    print(profitLossTotal())\n",
    "    print(avgChange())\n",
    "    print(maxIncrease())\n",
    "    print(maxDecrease())\n",
    "    \n",
    "    \n",
    "    return str(totalMonths() + profitLossTotal() + avgChange() + maxIncrease() + maxDecrease())\n",
    "    \n",
    "    "
   ]
  },
  {
   "cell_type": "code",
   "execution_count": 694,
   "id": "bde490fb",
   "metadata": {
    "scrolled": true
   },
   "outputs": [
    {
     "name": "stdout",
     "output_type": "stream",
     "text": [
      "Financial Analysis\n",
      "------------------------------\n",
      "Total Months: 86 \n",
      "Total Profit/Losses: 38382578 \n",
      "Average Change: $-2315.12 \n",
      "Greatest Increase in Profits: 2012-02-01  $1926159 \n",
      "Greatest Decrease in Losses:  2013-09-01  $-2196167 \n"
     ]
    },
    {
     "data": {
      "text/plain": [
       "'Total Months: 86 Total Profit/Losses: 38382578 Average Change: $-2315.12 Greatest Increase in Profits: 2012-02-01  $1926159 Greatest Decrease in Losses:  2013-09-01  $-2196167 '"
      ]
     },
     "execution_count": 694,
     "metadata": {},
     "output_type": "execute_result"
    }
   ],
   "source": [
    "financialAnalysis()"
   ]
  },
  {
   "cell_type": "code",
   "execution_count": 695,
   "id": "87acc5b7",
   "metadata": {},
   "outputs": [
    {
     "name": "stdout",
     "output_type": "stream",
     "text": [
      "Financial Analysis\n",
      "------------------------------\n",
      "Total Months: 86 \n",
      "Total Profit/Losses: 38382578 \n",
      "Average Change: $-2315.12 \n",
      "Greatest Increase in Profits: 2012-02-01  $1926159 \n",
      "Greatest Decrease in Losses:  2013-09-01  $-2196167 \n"
     ]
    }
   ],
   "source": [
    "with open(\"financialAnalysis.txt\", \"w\") as file:\n",
    "    \n",
    "    file.write(f\"{financialAnalysis()}\")\n",
    "    file.close()"
   ]
  }
 ],
 "metadata": {
  "kernelspec": {
   "display_name": "Python 3 (ipykernel)",
   "language": "python",
   "name": "python3"
  },
  "language_info": {
   "codemirror_mode": {
    "name": "ipython",
    "version": 3
   },
   "file_extension": ".py",
   "mimetype": "text/x-python",
   "name": "python",
   "nbconvert_exporter": "python",
   "pygments_lexer": "ipython3",
   "version": "3.9.12"
  }
 },
 "nbformat": 4,
 "nbformat_minor": 5
}
